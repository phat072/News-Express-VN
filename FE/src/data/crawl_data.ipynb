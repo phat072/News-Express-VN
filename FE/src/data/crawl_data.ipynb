{
 "cells": [
  {
   "cell_type": "code",
   "execution_count": 2,
   "metadata": {},
   "outputs": [],
   "source": [
    "\n",
    "import numpy as np # linear algebra\n",
    "import pandas as pd # data processing, CSV file I/O (e.g. pd.read_csv)"
   ]
  },
  {
   "cell_type": "code",
   "execution_count": 3,
   "metadata": {},
   "outputs": [],
   "source": [
    "import requests\n",
    "from bs4 import BeautifulSoup\n",
    "from tqdm import tqdm\n",
    "\n",
    "# URL of the webpage to scrape\n",
    "url = 'https://vnexpress.net'"
   ]
  },
  {
   "cell_type": "code",
   "execution_count": 4,
   "metadata": {},
   "outputs": [],
   "source": [
    "# Send an HTTP request to the URL\n",
    "response = requests.get(url)\n",
    "\n",
    "# Parse the HTML content of the page using BeautifulSoup\n",
    "soup = BeautifulSoup(response.content, 'html.parser')\n",
    "\n",
    "# Find the <body> element with class \"page-folder\"\n",
    "nav = soup.find('nav', {'class': 'main-nav'})\n",
    "\n",
    "# Find all the links within that <nav> element\n",
    "links = nav.find_all('a')\n",
    "count = 0\n",
    "cat_urls = []\n",
    "# Loop through each link and print its href attribute\n",
    "for link in links:\n",
    "    if count not in [0,1,3,5,22]:\n",
    "        cat_urls.append('https://vnexpress.net' + link['href'])\n",
    "    count += 1"
   ]
  },
  {
   "cell_type": "code",
   "execution_count": 5,
   "metadata": {},
   "outputs": [
    {
     "data": {
      "text/plain": [
       "['https://vnexpress.net/thoi-su',\n",
       " 'https://vnexpress.net/the-gioi',\n",
       " 'https://vnexpress.net/podcast',\n",
       " 'https://vnexpress.net/kinh-doanh',\n",
       " 'https://vnexpress.net/bat-dong-san',\n",
       " 'https://vnexpress.net/khoa-hoc',\n",
       " 'https://vnexpress.net/giai-tri',\n",
       " 'https://vnexpress.net/the-thao',\n",
       " 'https://vnexpress.net/phap-luat',\n",
       " 'https://vnexpress.net/giao-duc',\n",
       " 'https://vnexpress.net/suc-khoe',\n",
       " 'https://vnexpress.net/doi-song',\n",
       " 'https://vnexpress.net/du-lich',\n",
       " 'https://vnexpress.net/so-hoa',\n",
       " 'https://vnexpress.net/oto-xe-may',\n",
       " 'https://vnexpress.net/y-kien',\n",
       " 'https://vnexpress.net/tam-su',\n",
       " 'https://vnexpress.net/thu-gian']"
      ]
     },
     "execution_count": 5,
     "metadata": {},
     "output_type": "execute_result"
    }
   ],
   "source": [
    "cat_urls"
   ]
  },
  {
   "cell_type": "code",
   "execution_count": 6,
   "metadata": {},
   "outputs": [],
   "source": [
    "def get_more_url(root):\n",
    "    # Send an HTTP request to the URL\n",
    "    response = requests.get(root)\n",
    "\n",
    "    # Parse the HTML content of the page using BeautifulSoup\n",
    "    soup = BeautifulSoup(response.content, 'html.parser')\n",
    "\n",
    "    # Find the <body> element with class \"page-folder\"\n",
    "    ul = soup.find('ul', {'class': 'ul-nav-folder'})\n",
    "\n",
    "    links = ul.find_all('a')\n",
    "    cat_urls = []\n",
    "    # Loop through each link and print its href attribute\n",
    "    for link in links:\n",
    "        string = link['href']\n",
    "        if string.startswith(\"https://vnexpress.net\"):\n",
    "            result = string\n",
    "        else:\n",
    "            result = \"https://vnexpress.net\" + string\n",
    "        cat_urls.append(result)\n",
    "    return cat_urls"
   ]
  },
  {
   "cell_type": "code",
   "execution_count": 7,
   "metadata": {},
   "outputs": [
    {
     "name": "stdout",
     "output_type": "stream",
     "text": [
      "['https://vnexpress.net/thoi-su/chinh-tri', 'https://vnexpress.net/thoi-su/dan-sinh', 'https://vnexpress.net/thoi-su/lao-dong-viec-lam', 'https://vnexpress.net/thoi-su/giao-thong', 'https://vnexpress.net/thoi-su/mekong', 'https://vnexpress.net/thoi-su/quy-hy-vong']\n",
      "['https://vnexpress.net/the-gioi/tu-lieu', 'https://vnexpress.net/the-gioi/phan-tich', 'https://vnexpress.net/the-gioi/nguoi-viet-5-chau', 'https://vnexpress.net/the-gioi/cuoc-song-do-day', 'https://vnexpress.net/the-gioi/quan-su']\n",
      "['https://vnexpress.net/podcast/vnexpress-hom-nay', 'https://vnexpress.net/podcast/tam-diem-kinh-te', 'https://vnexpress.net/podcast/tai-chinh-ca-nhan', 'https://vnexpress.net/podcast/giai-ma', 'https://vnexpress.net/podcast/hop-den', 'https://vnexpress.net/podcast/tham-thi', 'https://vnexpress.net/podcast/toi-ke', 'https://vnexpress.net/podcast/ban-on-khong', 'https://vnexpress.net/podcast/diem-tin', 'https://vnexpress.net/podcast/tien-lam-gi', 'https://vnexpress.net/podcast/ho-noi-gi', 'https://vnexpress.net/podcast/ly-hon', 'https://vnexpress.net/podcast/nguoi-tien-phong', 'https://vnexpress.net/podcast/ke-hoach-lac-quan', 'https://vnexpress.net/podcast/360-world-cup', 'https://vnexpress.net/podcast/toi-trong-guong', 'https://vnexpress.net/podcast/chuyen-di-lam', 'https://vnexpress.net/podcast/up-mo-18', 'https://vnexpress.net/podcast/nguy-co']\n",
      "['https://vnexpress.net/kinh-doanh/quoc-te', 'https://vnexpress.net/kinh-doanh/doanh-nghiep', 'https://vnexpress.net/kinh-doanh/chung-khoan', 'https://vnexpress.net/kinh-doanh/ebank', 'https://vnexpress.net/kinh-doanh/vi-mo', 'https://vnexpress.net/kinh-doanh/tien-cua-toi', 'https://vnexpress.net/kinh-doanh/hang-hoa', 'https://vnexpress.net/kinh-doanh/bao-hiem']\n",
      "['https://vnexpress.net/bat-dong-san/chinh-sach', 'https://vnexpress.net/bat-dong-san/thi-truong', 'https://vnexpress.net/bat-dong-san/du-an', 'https://vnexpress.net/bat-dong-san/khong-gian-song', 'https://vnexpress.net/bat-dong-san/tu-van']\n",
      "['https://vnexpress.net/khoa-hoc/khoa-hoc-trong-nuoc', 'https://vnexpress.net/khoa-hoc/pii-doi-moi-sang-tao', 'https://vnexpress.net/khoa-hoc/tin-tuc', 'https://vnexpress.net/khoa-hoc/phat-minh', 'https://vnexpress.net/khoa-hoc/ung-dung', 'https://vnexpress.net/khoa-hoc/the-gioi-tu-nhien', 'https://vnexpress.net/khoa-hoc/thuong-thuc', 'https://vnexpress.net/khoa-hoc/cuoc-thi-sang-kien-khoa-hoc-2024']\n",
      "['https://vnexpress.net/giai-tri/gioi-sao', 'https://vnexpress.net/giai-tri/sach', 'https://vnexpress.nethttps://video.vnexpress.net/giai-tri', 'https://vnexpress.net/giai-tri/phim', 'https://vnexpress.net/giai-tri/nhac', 'https://vnexpress.net/giai-tri/thoi-trang', 'https://vnexpress.net/giai-tri/lam-dep', 'https://vnexpress.net/giai-tri/san-khau-my-thuat']\n",
      "['https://vnexpress.net/bong-da', 'https://vnexpress.net/the-thao/du-lieu-bong-da', 'https://vnexpress.net/the-thao/marathon', 'https://vnexpress.net/the-thao/tennis', 'https://vnexpress.net/the-thao/cac-mon-khac', 'https://vnexpress.net/the-thao/hau-truong', 'https://vnexpress.net/the-thao/photo', 'https://vnexpress.net/the-thao/video']\n",
      "['https://vnexpress.net/phap-luat/ho-so-pha-an', 'https://vnexpress.net/phap-luat/tu-van', 'https://vnexpress.net/phap-luat/video']\n",
      "['https://vnexpress.net/giao-duc/tin-tuc', 'https://vnexpress.net/giao-duc/tuyen-sinh', 'https://vnexpress.net/giao-duc/chan-dung', 'https://vnexpress.net/giao-duc/du-hoc', 'https://vnexpress.net/giao-duc/thao-luan', 'https://vnexpress.net/giao-duc/hoc-tieng-anh', 'https://vnexpress.net/giao-duc/giao-duc-40']\n",
      "['https://vnexpress.net/suc-khoe/tin-tuc', 'https://vnexpress.net/suc-khoe/tu-van', 'https://vnexpress.net/suc-khoe/dinh-duong', 'https://vnexpress.net/suc-khoe/khoe-dep', 'https://vnexpress.net/suc-khoe/dan-ong', 'https://vnexpress.net/suc-khoe/cac-benh', 'https://vnexpress.net/suc-khoe/vaccine']\n",
      "['https://vnexpress.net/doi-song/nhip-song', 'https://vnexpress.net/doi-song/to-am', 'https://vnexpress.net/doi-song/bai-hoc-song', 'https://vnexpress.net/doi-song/cooking', 'https://vnexpress.net/doi-song/tieu-dung', 'https://vnexpress.net/doi-song/smart-buy', 'https://vnexpress.net/doi-song/tu-van-tiet-kiem-dien-mua-nong']\n",
      "['https://vnexpress.net/du-lich/diem-den', 'https://vnexpress.net/du-lich/am-thuc', 'https://vnexpress.net/du-lich/dau-chan', 'https://vnexpress.net/du-lich/tu-van', 'https://vnexpress.net/du-lich/cam-nang', 'https://vnexpress.net/du-lich/anh-video']\n",
      "['https://vnexpress.net/so-hoa/cong-nghe', 'https://vnexpress.net/so-hoa/san-pham', 'https://vnexpress.net/so-hoa/blockchain', 'https://vnexpress.net/so-hoa/kinh-nghiem', 'https://vnexpress.net/so-hoa/vgv-2024']\n",
      "['https://vnexpress.net/oto-xe-may/thi-truong', 'https://vnexpress.net/oto-xe-may/car-awards-2023', 'https://vnexpress.net/oto-xe-may/dien-dan', 'https://vnexpress.net/oto-xe-may/v-car', 'https://vnexpress.net/oto-xe-may/v-bike', 'https://vnexpress.net/oto-xe-may/cam-lai', 'https://vnexpress.net/oto-xe-may/thi-bang-lai', 'https://vnexpress.net/oto-xe-may/thi-bang-lai-oto-b1-b2/mo-phong']\n",
      "['https://vnexpress.net/y-kien/thoi-su', 'https://vnexpress.net/y-kien/doi-song']\n",
      "['https://vnexpress.net/tam-su/hen-ho']\n",
      "['https://vnexpress.net/thu-gian/cuoi', 'https://vnexpress.net/thu-gian/do-vui', 'https://vnexpress.net/thu-gian/chuyen-la', 'https://vnexpress.net/thu-gian/crossword', 'https://vnexpress.net/thu-gian/thu-cung']\n"
     ]
    }
   ],
   "source": [
    "for url in cat_urls:\n",
    "    print(get_more_url(url))"
   ]
  }
 ],
 "metadata": {
  "kernelspec": {
   "display_name": "Python 3",
   "language": "python",
   "name": "python3"
  },
  "language_info": {
   "codemirror_mode": {
    "name": "ipython",
    "version": 3
   },
   "file_extension": ".py",
   "mimetype": "text/x-python",
   "name": "python",
   "nbconvert_exporter": "python",
   "pygments_lexer": "ipython3",
   "version": "3.10.12"
  }
 },
 "nbformat": 4,
 "nbformat_minor": 2
}
